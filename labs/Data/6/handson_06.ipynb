{
 "cells": [
  {
   "cell_type": "markdown",
   "metadata": {},
   "source": [
    "## Install NEMtropy\n",
    "\n",
    "Example notebooks are available at https://github.com/nicoloval/NEMtropy/tree/master/examples"
   ]
  },
  {
   "cell_type": "code",
   "execution_count": null,
   "metadata": {},
   "outputs": [],
   "source": [
    "pip install NEMtropy"
   ]
  },
  {
   "cell_type": "markdown",
   "metadata": {},
   "source": [
    "## Basic usage"
   ]
  },
  {
   "cell_type": "code",
   "execution_count": 2,
   "metadata": {},
   "outputs": [],
   "source": [
    "import networkx as nx\n",
    "import numpy as np\n",
    "from NEMtropy import UndirectedGraph, DirectedGraph\n",
    "from NEMtropy.network_functions import build_adjacency_from_edgelist"
   ]
  },
  {
   "cell_type": "code",
   "execution_count": 3,
   "metadata": {},
   "outputs": [],
   "source": [
    "# let's take Zachary's Karate Club network\n",
    "g = nx.karate_club_graph()"
   ]
  },
  {
   "cell_type": "code",
   "execution_count": 4,
   "metadata": {},
   "outputs": [],
   "source": [
    "# then we convert it to numpy adjacency matrix\n",
    "adj_kar = nx.to_numpy_array(g)"
   ]
  },
  {
   "cell_type": "code",
   "execution_count": 5,
   "metadata": {},
   "outputs": [],
   "source": [
    "# and we initialize a NEMtropy UndirectedGraph object\n",
    "graph = UndirectedGraph(adj_kar)"
   ]
  },
  {
   "cell_type": "code",
   "execution_count": 6,
   "metadata": {},
   "outputs": [
    {
     "name": "stderr",
     "output_type": "stream",
     "text": [
      "/Library/Frameworks/Python.framework/Versions/3.8/lib/python3.8/site-packages/numba/core/utils.py:544: NumbaExperimentalFeatureWarning: First-class function type feature is experimental\n",
      "  warnings.warn(\"First-class function type feature is experimental\",\n",
      "/Library/Frameworks/Python.framework/Versions/3.8/lib/python3.8/site-packages/NEMtropy/models_functions.py:461: NumbaExperimentalFeatureWarning: First-class function type feature is experimental\n",
      "  step_fun = args[0]\n",
      "/Library/Frameworks/Python.framework/Versions/3.8/lib/python3.8/site-packages/NEMtropy/models_functions.py:462: NumbaExperimentalFeatureWarning: First-class function type feature is experimental\n",
      "  arg_step_fun = args[1]\n",
      "/Library/Frameworks/Python.framework/Versions/3.8/lib/python3.8/site-packages/numba/core/utils.py:544: NumbaExperimentalFeatureWarning: First-class function type feature is experimental\n",
      "  warnings.warn(\"First-class function type feature is experimental\",\n"
     ]
    },
    {
     "name": "stdout",
     "output_type": "stream",
     "text": [
      "\n",
      "solution error = 5.127957614092793e-09\n"
     ]
    }
   ],
   "source": [
    "# then we need to solve the maximum likelihood problem for the model of our choice\n",
    "# model choices for UndirectedGraph are \"cm_exp\", \"ecm_exp\" and \"crema\" which is a faster implementation of \"ecm_exp\"\n",
    "# don't worry about warnings, it's normal\n",
    "\n",
    "graph.solve_tool(model=\"cm_exp\")"
   ]
  },
  {
   "cell_type": "code",
   "execution_count": 7,
   "metadata": {},
   "outputs": [],
   "source": [
    "# now graph contains the maximum likelihood solution and we can use it to sample networks from the ERGM\n",
    "graph.ensemble_sampler(10, cpu_n=1, output_dir=\"sample/\")\n",
    "\n",
    "# this saves networks in form of edgelists in the output_dir subfolder"
   ]
  },
  {
   "cell_type": "code",
   "execution_count": 8,
   "metadata": {},
   "outputs": [],
   "source": [
    "# so now we can load the samples and analyze them\n",
    "\n",
    "clust = []\n",
    "clust_orig = nx.average_clustering(g)\n",
    "\n",
    "for i in range(10):\n",
    "    edgelist_ens = np.loadtxt(f\"sample/{i}.txt\")\n",
    "    net = nx.Graph()\n",
    "    net.add_edges_from(edgelist_ens)\n",
    "    clust.append(nx.average_clustering(net))"
   ]
  },
  {
   "cell_type": "code",
   "execution_count": 9,
   "metadata": {},
   "outputs": [
    {
     "data": {
      "text/plain": [
       "<matplotlib.collections.LineCollection at 0x7ff541496d60>"
      ]
     },
     "execution_count": 9,
     "metadata": {},
     "output_type": "execute_result"
    },
    {
     "data": {
      "image/png": "[encoded data removed]",
      "text/plain": [
       "<Figure size 432x288 with 1 Axes>"
      ]
     },
     "metadata": {
      "needs_background": "light"
     },
     "output_type": "display_data"
    }
   ],
   "source": [
    "import matplotlib.pyplot as plt\n",
    "\n",
    "plt.hist(clust)\n",
    "plt.vlines(clust_orig, 0,3, \"red\")"
   ]
  },
  {
   "cell_type": "markdown",
   "metadata": {},
   "source": [
    "## For weighted networks"
   ]
  },
  {
   "cell_type": "code",
   "execution_count": 10,
   "metadata": {},
   "outputs": [
    {
     "name": "stderr",
     "output_type": "stream",
     "text": [
      "/Library/Frameworks/Python.framework/Versions/3.8/lib/python3.8/site-packages/numba/core/utils.py:544: NumbaExperimentalFeatureWarning: First-class function type feature is experimental\n",
      "  warnings.warn(\"First-class function type feature is experimental\",\n",
      "/Library/Frameworks/Python.framework/Versions/3.8/lib/python3.8/site-packages/numba/core/utils.py:544: NumbaExperimentalFeatureWarning: First-class function type feature is experimental\n",
      "  warnings.warn(\"First-class function type feature is experimental\",\n",
      "/Library/Frameworks/Python.framework/Versions/3.8/lib/python3.8/site-packages/NEMtropy/models_functions.py:1554: NumbaExperimentalFeatureWarning: First-class function type feature is experimental\n",
      "  step_fun = args[0]\n",
      "/Library/Frameworks/Python.framework/Versions/3.8/lib/python3.8/site-packages/NEMtropy/models_functions.py:1555: NumbaExperimentalFeatureWarning: First-class function type feature is experimental\n",
      "  arg_step_fun = args[1]\n"
     ]
    },
    {
     "name": "stdout",
     "output_type": "stream",
     "text": [
      "\n",
      "solution error = 8.145088159494662e-09\n"
     ]
    },
    {
     "name": "stderr",
     "output_type": "stream",
     "text": [
      "/Library/Frameworks/Python.framework/Versions/3.8/lib/python3.8/site-packages/numba/core/utils.py:544: NumbaExperimentalFeatureWarning: First-class function type feature is experimental\n",
      "  warnings.warn(\"First-class function type feature is experimental\",\n"
     ]
    }
   ],
   "source": [
    "# First of all we generate the adjacency matrix of a weighted undirected graph using the matrix_generator module of NEMtropy\n",
    "from NEMtropy import matrix_generator\n",
    "\n",
    "adj_weigh = matrix_generator.random_weighted_matrix_generator_uniform_custom_density(n=30,\n",
    "                                                                                     p=0.2,\n",
    "                                                                                     sym=True,\n",
    "                                                                                     sup_ext=30,\n",
    "                                                                                     intweights=True)\n",
    "\n",
    "# Then we intialise the graph instance\n",
    "graph = UndirectedGraph(adj_weigh)\n",
    "\n",
    "# use model \"crema\", which is a slightly more optimal version of the UECM and DECM models\n",
    "graph.solve_tool(model=\"crema\",\n",
    "                 method=\"newton\",\n",
    "                 initial_guess=\"random\",\n",
    "                 adjacency=\"cm_exp\",\n",
    "                 method_adjacency=\"newton\")"
   ]
  },
  {
   "cell_type": "code",
   "execution_count": 11,
   "metadata": {},
   "outputs": [],
   "source": [
    "# sample some weighted random networks\n",
    "graph.ensemble_sampler(10, cpu_n=1, output_dir='sample/')"
   ]
  },
  {
   "cell_type": "code",
   "execution_count": 12,
   "metadata": {},
   "outputs": [],
   "source": [
    "# to read the adjacency list we now need a method that maps it to a weighted adjacency matrix\n",
    "edgelist_ens = np.loadtxt(\"sample/0.txt\")\n",
    "\n",
    "ens_adj = build_adjacency_from_edgelist(edgelist = edgelist_ens,\n",
    "                                        is_directed = False,\n",
    "                                        is_sparse = False,\n",
    "                                        is_weighted = True)\n",
    "\n",
    "# and generate a networkx graph from it\n",
    "G = nx.from_numpy_array(ens_adj)"
   ]
  }
 ],
 "metadata": {
  "kernelspec": {
   "display_name": "Python 3",
   "language": "python",
   "name": "python3"
  },
  "language_info": {
   "codemirror_mode": {
    "name": "ipython",
    "version": 3
   },
   "file_extension": ".py",
   "mimetype": "text/x-python",
   "name": "python",
   "nbconvert_exporter": "python",
   "pygments_lexer": "ipython3",
   "version": "3.8.3"
  }
 },
 "nbformat": 4,
 "nbformat_minor": 5
}
