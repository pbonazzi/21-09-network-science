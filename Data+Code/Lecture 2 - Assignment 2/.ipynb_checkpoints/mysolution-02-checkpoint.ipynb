{
 "cells": [
  {
   "cell_type": "markdown",
   "metadata": {},
   "source": [
    "# Informations\n",
    "\n",
    "University of Zurich, <br>\n",
    "Network Science, <br>\n",
    "Assignment 1\n",
    "\n",
    "Pietro Bonazzi, <br>\n",
    "LEGI 17-200-635, <br>\n",
    "pietro.bonazzi@uzh.ch"
   ]
  },
  {
   "cell_type": "markdown",
   "metadata": {},
   "source": [
    "# Libraries"
   ]
  },
  {
   "cell_type": "code",
   "execution_count": 1,
   "metadata": {},
   "outputs": [],
   "source": [
    "%matplotlib inline"
   ]
  },
  {
   "cell_type": "code",
   "execution_count": 2,
   "metadata": {},
   "outputs": [],
   "source": [
    "import networkx as nx\n",
    "import matplotlib.pyplot as plt\n",
    "import numpy as np"
   ]
  },
  {
   "cell_type": "markdown",
   "metadata": {},
   "source": [
    "# A02.1 Average degree of the nearest neighbours\n",
    "\n",
    "Task: For each dataset 𝒢, randomise it to obtain a network 𝒢𝑟𝑛𝑑 and explore their assortativity* properties\n",
    "\n",
    "*Is there homophily in the network? (nodes connect to others similar to them?)\n",
    "\n",
    "1. Plot the average degree of the nearest neighbours 𝑘𝑛𝑛(𝑘) as\n",
    "a function of the vertices degree 𝑘\n",
    "2. Compute the assortativity coefficient of the real network\n",
    "3. Compute the assortativity coefficient of the randomised\n",
    "network"
   ]
  },
  {
   "cell_type": "code",
   "execution_count": null,
   "metadata": {},
   "outputs": [],
   "source": [
    "graph_AstroPh = nx.read_gml(\"data/graph_AstroPh.gml\")\n",
    "graph_rnd_AstroPh = nx.algorithms.swap.double_edge_swap(nx.read_gml(\"data/graph_AstroPh.gml\"), nswap=1, max_tries=100)"
   ]
  }
 ],
 "metadata": {
  "kernelspec": {
   "display_name": "Python 3",
   "language": "python",
   "name": "python3"
  },
  "language_info": {
   "codemirror_mode": {
    "name": "ipython",
    "version": 3
   },
   "file_extension": ".py",
   "mimetype": "text/x-python",
   "name": "python",
   "nbconvert_exporter": "python",
   "pygments_lexer": "ipython3",
   "version": "3.8.3"
  }
 },
 "nbformat": 4,
 "nbformat_minor": 4
}
