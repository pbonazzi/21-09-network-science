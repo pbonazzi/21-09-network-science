{
 "cells": [
  {
   "cell_type": "code",
   "execution_count": 1,
   "id": "ee66dcbc",
   "metadata": {},
   "outputs": [],
   "source": [
    "%run functions_02.ipynb"
   ]
  },
  {
   "cell_type": "code",
   "execution_count": 15,
   "id": "2f668873",
   "metadata": {},
   "outputs": [],
   "source": [
    "import scipy.stats as sp\n",
    "\n",
    "def values_toarray(diction):\n",
    "    return np.array(list(diction.values()))\n",
    "\n",
    "def centrality(g) : \n",
    "    eigen_cen = nx.eigenvector_centrality(g)\n",
    "    eigen_cen = values_toarray(eigen_cen)\n",
    "    \n",
    "    close_cen = nx.closeness_centrality(g)\n",
    "    close_cen = values_toarray(close_cen)\n",
    "    \n",
    "    between_cen = nx.betweenness_centrality(g)\n",
    "    between_cen = values_toarray(between_cen)\n",
    "    \n",
    "    degree_cen = nx.degree_centrality(g)\n",
    "    degree_cen = values_toarray(degree_cen)\n",
    "    \n",
    "    return eigen_cen, close_cen, between_cen, degree_cen\n",
    "\n",
    "\n",
    "def pearson_coeff(x,y) :\n",
    "    return sp.pearsonr(x,y)[0]\n",
    "\n",
    "\n",
    "def kendall_coeff(x,y) :\n",
    "    return sp.kendalltau(x,y)[0]\n",
    "\n",
    "\n",
    "def spearman_coeff(x,y) :\n",
    "    return sp.spearmanr(x,y)[0]\n",
    "\n",
    "\n",
    "def plot_scatter_cent(x, y, xt, yt,filename) :\n",
    "    vertices = np.arange(start=1, stop=len(x)+1, step=1) \n",
    "    plt.scatter(x, y, s=10, c='r', marker=\"o\")\n",
    "    plt.title(filename+\" \"+xt+\", \"+yt)\n",
    "    \n",
    "    idxX = np.where(x == np.amax(x))\n",
    "    idxY = np.where(y == np.amax(y))\n",
    "    \n",
    "    plt.annotate(idxX, xy=(x[idxX], y[idxX]), xytext=(0,50), \n",
    "            textcoords='offset points', ha='center', va='bottom',\n",
    "            bbox=dict(boxstyle='round,pad=0.2', fc='yellow', alpha=0.3),\n",
    "            arrowprops=dict(arrowstyle='->', connectionstyle='arc3,rad=0.5', \n",
    "                            color='blue'))\n",
    "    \n",
    "    plt.annotate(idxY, xy=(x[idxY], y[idxY]), xytext=(0,50),\n",
    "            textcoords='offset points', ha='center', va='bottom',\n",
    "            bbox=dict(boxstyle='round,pad=0.2', fc='yellow', alpha=0.3),\n",
    "            arrowprops=dict(arrowstyle='->', connectionstyle='arc3,rad=0.5', \n",
    "                            color='blue'))\n",
    "    \n",
    "    plt.xlabel(xt)\n",
    "    plt.ylabel(yt)\n",
    "    plt.xscale('linear')\n",
    "    plt.yscale('linear')\n",
    "    plt.show()\n",
    "    print(\"Pearson : \", pearson_coeff(x, y))\n",
    "    print(\"Kendall : \", kendall_coeff(x, y))\n",
    "    print(\"Spearman : \", spearman_coeff(x, y))"
   ]
  },
  {
   "cell_type": "code",
   "execution_count": null,
   "id": "7010800e",
   "metadata": {},
   "outputs": [],
   "source": []
  }
 ],
 "metadata": {
  "kernelspec": {
   "display_name": "Python 3 (ipykernel)",
   "language": "python",
   "name": "python3"
  },
  "language_info": {
   "codemirror_mode": {
    "name": "ipython",
    "version": 3
   },
   "file_extension": ".py",
   "mimetype": "text/x-python",
   "name": "python",
   "nbconvert_exporter": "python",
   "pygments_lexer": "ipython3",
   "version": "3.9.7"
  }
 },
 "nbformat": 4,
 "nbformat_minor": 5
}
