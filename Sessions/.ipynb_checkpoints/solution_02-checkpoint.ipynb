{
 "cells": [
  {
   "cell_type": "markdown",
   "metadata": {},
   "source": [
    "# Informations\n",
    "\n",
    "University of Zurich, <br>\n",
    "Network Science, <br>\n",
    "Assignment 2\n",
    "\n",
    "Pietro Bonazzi, <br>\n",
    "LEGI 17-200-635, <br>\n",
    "pietro.bonazzi@uzh.ch"
   ]
  },
  {
   "cell_type": "markdown",
   "metadata": {},
   "source": [
    "# Libraries"
   ]
  },
  {
   "cell_type": "code",
   "execution_count": 1,
   "metadata": {},
   "outputs": [],
   "source": [
    "%run functions.ipynb"
   ]
  },
  {
   "cell_type": "markdown",
   "metadata": {},
   "source": [
    "# A02.1 Average degree of the nearest neighbours\n",
    "\n",
    "Task: For each dataset 𝒢, randomise it to obtain a network 𝒢𝑟𝑛𝑑 and explore their assortativity* properties\n",
    "\n",
    "*Is there homophily in the network? (nodes connect to others similar to them?)\n",
    "\n",
    "1. Plot the average degree of the nearest neighbours 𝑘𝑛𝑛(𝑘) as a function of the vertices degree 𝑘\n",
    "2. Compute the assortativity coefficient of the real network\n",
    "3. Compute the assortativity coefficient of the randomised network"
   ]
  },
  {
   "cell_type": "code",
   "execution_count": null,
   "metadata": {},
   "outputs": [],
   "source": [
    "graph_AstroPh = nx.read_gml(\"data/graph_AstroPh.gml\")\n",
    "graph_rnd_AstroPh = nx.algorithms.swap.double_edge_swap(nx.read_gml(\"data/graph_AstroPh.gml\"), nswap=graph_AstroPh.number_of_nodes(), max_tries=100)\n",
    "\n",
    "\n",
    "\n",
    "#2\n",
    "compute_assortativity_coeff(graph)\n",
    "#3\n",
    "nx.degree_assortativity_coefficient(grnd)\n"
   ]
  }
 ],
 "metadata": {
  "kernelspec": {
   "display_name": "Python 3 (ipykernel)",
   "language": "python",
   "name": "python3"
  },
  "language_info": {
   "codemirror_mode": {
    "name": "ipython",
    "version": 3
   },
   "file_extension": ".py",
   "mimetype": "text/x-python",
   "name": "python",
   "nbconvert_exporter": "python",
   "pygments_lexer": "ipython3",
   "version": "3.8.10"
  }
 },
 "nbformat": 4,
 "nbformat_minor": 4
}
