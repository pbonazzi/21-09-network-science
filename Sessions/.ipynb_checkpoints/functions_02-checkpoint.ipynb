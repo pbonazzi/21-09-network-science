{
 "cells": [
  {
   "cell_type": "code",
   "execution_count": 1,
   "id": "14916d4c",
   "metadata": {},
   "outputs": [],
   "source": [
    "%run functions_01.ipynb"
   ]
  },
  {
   "cell_type": "code",
   "execution_count": 3,
   "id": "2765474b",
   "metadata": {},
   "outputs": [],
   "source": [
    "def compute_assortativity_coeff(graph) : \n",
    "    return nx.degree_assortativity_coefficient(graph)\n",
    "\n",
    "def plot_avg_degree_NnVd(graph) :\n",
    "    x= nx.average_neighbor_degree(graph)\n",
    "    y= degrees(graph)\n",
    "    \n",
    "    binlog = np.logspace(np.log10(min(degree)),np.log10(max(degree)+1), 30)\n",
    "    x, bins, p=plt.hist(degree, binlog, density=True, alpha=0.5)\n",
    "    plt.xscale('log')\n",
    "    plt.yscale('log')\n",
    "    plt.show()"
   ]
  },
  {
   "cell_type": "code",
   "execution_count": null,
   "id": "8a250355",
   "metadata": {},
   "outputs": [],
   "source": []
  }
 ],
 "metadata": {
  "kernelspec": {
   "display_name": "Python 3 (ipykernel)",
   "language": "python",
   "name": "python3"
  },
  "language_info": {
   "codemirror_mode": {
    "name": "ipython",
    "version": 3
   },
   "file_extension": ".py",
   "mimetype": "text/x-python",
   "name": "python",
   "nbconvert_exporter": "python",
   "pygments_lexer": "ipython3",
   "version": "3.8.10"
  }
 },
 "nbformat": 4,
 "nbformat_minor": 5
}
