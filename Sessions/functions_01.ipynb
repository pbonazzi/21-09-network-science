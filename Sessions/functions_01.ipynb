{
 "cells": [
  {
   "cell_type": "code",
   "execution_count": 1,
   "id": "07b86fde",
   "metadata": {},
   "outputs": [],
   "source": [
    "%matplotlib inline"
   ]
  },
  {
   "cell_type": "code",
   "execution_count": 2,
   "id": "db31d465",
   "metadata": {},
   "outputs": [],
   "source": [
    "import networkx as nx\n",
    "import matplotlib.pyplot as plt\n",
    "import numpy as np"
   ]
  },
  {
   "cell_type": "code",
   "execution_count": 3,
   "id": "2765474b",
   "metadata": {},
   "outputs": [],
   "source": [
    "def max_degree(graph):\n",
    "    degreevec = [d for n, d in graph.degree()]\n",
    "    maxvalue = np.max(degreevec)\n",
    "    maxid = np.argmax(degreevec)\n",
    "    return maxid, maxvalue\n",
    "\n",
    "def degrees(graph):\n",
    "    L=nx.adjacency_matrix(graph).toarray()\n",
    "    degree=[]\n",
    "    for i in range(len(L)) : \n",
    "        degree.append(L[i].sum())\n",
    "    return degree\n",
    "\n",
    "def degree_distrib(graph):\n",
    "    fig, ax = plt.subplots()\n",
    "    plt.title(\"Degree Distribution\")\n",
    "    plt.ylabel(\"P(k) - Degree Distribution\")\n",
    "    plt.xlabel(\"k - Degree\")\n",
    "    \n",
    "    degree=degrees(graph)\n",
    "    \n",
    "    binlog = np.logspace(np.log10(min(degree)),np.log10(max(degree)+1), 30)\n",
    "    x, bins, p=plt.hist(degree, binlog, density=True, alpha=0.5)\n",
    "    plt.xscale('log')\n",
    "    plt.yscale('log')\n",
    "    plt.show()\n",
    "    \n",
    "def avg_degree(graph) :\n",
    "    return (2 * graph.number_of_edges()/graph.number_of_nodes())\n",
    "\n",
    "def density(graph) : \n",
    "    L=nx.adjacency_matrix(graph).toarray().sum()\n",
    "    N = graph.number_of_nodes()\n",
    "    return ((2*L)/(N*(N-1)))"
   ]
  }
 ],
 "metadata": {
  "kernelspec": {
   "display_name": "Python 3 (ipykernel)",
   "language": "python",
   "name": "python3"
  },
  "language_info": {
   "codemirror_mode": {
    "name": "ipython",
    "version": 3
   },
   "file_extension": ".py",
   "mimetype": "text/x-python",
   "name": "python",
   "nbconvert_exporter": "python",
   "pygments_lexer": "ipython3",
   "version": "3.8.10"
  }
 },
 "nbformat": 4,
 "nbformat_minor": 5
}
