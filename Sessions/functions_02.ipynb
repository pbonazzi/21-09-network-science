{
 "cells": [
  {
   "cell_type": "code",
   "execution_count": 5,
   "id": "071386a6",
   "metadata": {},
   "outputs": [],
   "source": [
    "%run functions_01.ipynb"
   ]
  },
  {
   "cell_type": "code",
   "execution_count": 10,
   "id": "2765474b",
   "metadata": {},
   "outputs": [],
   "source": [
    "def compute_assortativity_coeff(graph) : \n",
    "    return nx.degree_assortativity_coefficient(graph)\n",
    "\n",
    "def plot_avg_degree_NnVd(graph, filename) :\n",
    "    x= nx.average_neighbor_degree(graph)\n",
    "    y= degrees(graph)\n",
    "    \n",
    "    binlog = np.logspace(np.log10(min(y)),np.log10(max(y)+1), 30)\n",
    "    x, bins, p=plt.hist(y, binlog, density=True, alpha=0.5)\n",
    "    plt.title(filename)\n",
    "    plt.xlabel(\"average degree nearest neighbor\")\n",
    "    plt.ylabel(\"vertices degrees\")\n",
    "    plt.xscale('log')\n",
    "    plt.yscale('log')\n",
    "    plt.show()"
   ]
  },
  {
   "cell_type": "code",
   "execution_count": 1,
   "id": "e05ed03a",
   "metadata": {},
   "outputs": [],
   "source": [
    "def compute_clustering_coeff(graph) : \n",
    "    return nx.clustering(graph)\n",
    "\n",
    "def plot_scatter_dict(x, y, filename) :\n",
    "    plt.scatter(x.values(), y.values(), s=10, c='r', marker=\"o\")\n",
    "    plt.title(filename)\n",
    "    plt.xlabel(\"clustering coefficient, normal graph\")\n",
    "    plt.ylabel(\"clustering coefficient, randomised graph\")\n",
    "    plt.xscale('linear')\n",
    "    plt.yscale('linear')\n",
    "    plt.show()"
   ]
  },
  {
   "cell_type": "code",
   "execution_count": null,
   "id": "0866f7a0",
   "metadata": {},
   "outputs": [],
   "source": []
  }
 ],
 "metadata": {
  "kernelspec": {
   "display_name": "Python 3 (ipykernel)",
   "language": "python",
   "name": "python3"
  },
  "language_info": {
   "codemirror_mode": {
    "name": "ipython",
    "version": 3
   },
   "file_extension": ".py",
   "mimetype": "text/x-python",
   "name": "python",
   "nbconvert_exporter": "python",
   "pygments_lexer": "ipython3",
   "version": "3.9.7"
  }
 },
 "nbformat": 4,
 "nbformat_minor": 5
}
