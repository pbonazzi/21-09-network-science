{
 "cells": [
  {
   "cell_type": "code",
   "execution_count": 4,
   "id": "071386a6",
   "metadata": {},
   "outputs": [],
   "source": [
    "%run functions_01.ipynb"
   ]
  },
  {
   "cell_type": "code",
   "execution_count": 5,
   "id": "ca911216",
   "metadata": {},
   "outputs": [],
   "source": [
    "from os import walk"
   ]
  },
  {
   "cell_type": "code",
   "execution_count": 6,
   "id": "2765474b",
   "metadata": {},
   "outputs": [],
   "source": [
    "def all_files(path) :\n",
    "    (_, _, filenames) = walk(folder).next()\n",
    "    return filenames\n",
    "\n",
    "def compute_assortativity_coeff(graph) : \n",
    "    return nx.degree_assortativity_coefficient(graph)\n",
    "\n",
    "def plot_avg_degree_NnVd(graph) :\n",
    "    x= nx.average_neighbor_degree(graph)\n",
    "    y= degrees(graph)\n",
    "    \n",
    "    binlog = np.logspace(np.log10(min(degree)),np.log10(max(degree)+1), 30)\n",
    "    x, bins, p=plt.hist(degree, binlog, density=True, alpha=0.5)\n",
    "    plt.xscale('log')\n",
    "    plt.yscale('log')\n",
    "    plt.show()"
   ]
  },
  {
   "cell_type": "code",
   "execution_count": null,
   "id": "adae4dfb",
   "metadata": {},
   "outputs": [],
   "source": []
  }
 ],
 "metadata": {
  "kernelspec": {
   "display_name": "Python 3 (ipykernel)",
   "language": "python",
   "name": "python3"
  },
  "language_info": {
   "codemirror_mode": {
    "name": "ipython",
    "version": 3
   },
   "file_extension": ".py",
   "mimetype": "text/x-python",
   "name": "python",
   "nbconvert_exporter": "python",
   "pygments_lexer": "ipython3",
   "version": "3.8.10"
  }
 },
 "nbformat": 4,
 "nbformat_minor": 5
}
