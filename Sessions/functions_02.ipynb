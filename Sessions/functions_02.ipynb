{
 "cells": [
  {
   "cell_type": "code",
   "execution_count": 5,
   "id": "071386a6",
   "metadata": {},
   "outputs": [],
   "source": [
    "%run functions_01.ipynb"
   ]
  },
  {
   "cell_type": "code",
   "execution_count": 10,
   "id": "2765474b",
   "metadata": {},
   "outputs": [],
   "source": [
    "def compute_assortativity_coeff(graph) : \n",
    "    return nx.degree_assortativity_coefficient(graph)\n",
    "\n",
    "def plot_avg_degree_NnVd(graph, filename) :\n",
    "    x= nx.average_neighbor_degree(graph)\n",
    "    y= degrees(graph)\n",
    "    \n",
    "    binlog = np.logspace(np.log10(min(y)),np.log10(max(y)+1), 30)\n",
    "    x, bins, p=plt.hist(y, binlog, density=True, alpha=0.5)\n",
    "    plt.title(filename)\n",
    "    plt.xscale('log')\n",
    "    plt.yscale('log')\n",
    "    plt.show()"
   ]
  },
  {
   "cell_type": "code",
   "execution_count": 19,
   "id": "e05ed03a",
   "metadata": {},
   "outputs": [],
   "source": [
    "def compute_clustering_coeff(graph) : \n",
    "    return nx.clustering(graph)\n",
    "\n",
    "def plot_clustering(x, y, filename) :\n",
    "    \n",
    "    plt.scatter(x.keys(),x.values(), s=10, c='b', marker=\"s\", label='c')\n",
    "    plt.scatter(y.keys(), y.values(), s=10, c='r', marker=\"o\", label='crnd')\n",
    "    plt.title(filename)\n",
    "    plt.legend(loc='upper left');\n",
    "    plt.xscale('log')\n",
    "    plt.yscale('log')\n",
    "    plt.show()"
   ]
  }
 ],
 "metadata": {
  "kernelspec": {
   "display_name": "Python 3 (ipykernel)",
   "language": "python",
   "name": "python3"
  },
  "language_info": {
   "codemirror_mode": {
    "name": "ipython",
    "version": 3
   },
   "file_extension": ".py",
   "mimetype": "text/x-python",
   "name": "python",
   "nbconvert_exporter": "python",
   "pygments_lexer": "ipython3",
   "version": "3.8.10"
  }
 },
 "nbformat": 4,
 "nbformat_minor": 5
}
