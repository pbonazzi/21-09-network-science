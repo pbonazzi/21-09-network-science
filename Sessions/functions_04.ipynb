{
 "cells": [
  {
   "cell_type": "code",
   "execution_count": 1,
   "id": "ee66dcbc",
   "metadata": {},
   "outputs": [],
   "source": [
    "%run functions_03.ipynb"
   ]
  },
  {
   "cell_type": "code",
   "execution_count": 8,
   "id": "2f668873",
   "metadata": {},
   "outputs": [],
   "source": [
    "import networkx.algorithms.community as nxcom\n",
    "\n",
    "def randomise_graph(graph) :\n",
    "    return nx.algorithms.smallworld.random_reference(graph,niter = 1, connectivity=False)\n",
    "\n",
    "def find_community_label_propagation(graph) :\n",
    "    return [c for c in nxcom.label_propagation_communities(graph)]\n",
    "\n",
    "def find_community_greedy_modularity(graph) :\n",
    "    return  [c for c in nxcom.greedy_modularity_communities(graph)]\n",
    "\n",
    "def create_community_colors(graph, comm) :\n",
    "    from matplotlib.pyplot import cm\n",
    "    color = cm.rainbow(np.linspace(0, 1, len(comm)))\n",
    "    for v in graph.nodes():\n",
    "        for i, c in zip(range(len(comm)), color):\n",
    "            if v in comm[i]:\n",
    "                graph.nodes[v]['color'] = c\n",
    "                continue\n",
    "    return graph\n",
    "\n",
    "def draw_graph_community_color(graph,filename,method) :\n",
    "    pos = nx.spring_layout(graph, k=0.20, iterations=20)\n",
    "    plt.figure(3, figsize=(30, 30))\n",
    "    plt.title(filename + \", \"+ method)\n",
    "    nx.draw(graph,with_labels=False,node_color = [graph.nodes[v]['color'] for v in graph.nodes()], node_size=1000, pos=pos)\n",
    "    plt.show()\n",
    "\n",
    "\n",
    "def plot(x, y, xlabel, ylabel, title, yline=None, xline=None, x_scale=\"linear\", y_scale=\"linear\", size=[20,20]) :\n",
    "    plt.figure(3, figsize=(size[0], size[1]))\n",
    "    plt.rcParams.update({'font.size': 14})\n",
    "    plt.plot(x, y, c='r', marker=\"o\")\n",
    "    plt.title(title)\n",
    "    if yline!=None :\n",
    "        plt.axhline(y=yline)\n",
    "    if xline!=None :\n",
    "        plt.axvline(x=xline)\n",
    "    plt.xlabel(xlabel)\n",
    "    plt.ylabel(ylabel)\n",
    "    plt.xscale(x_scale)\n",
    "    plt.yscale(y_scale)\n",
    "    plt.show()"
   ]
  },
  {
   "cell_type": "code",
   "execution_count": null,
   "id": "7010800e",
   "metadata": {},
   "outputs": [],
   "source": []
  }
 ],
 "metadata": {
  "kernelspec": {
   "display_name": "Python 3 (ipykernel)",
   "language": "python",
   "name": "python3"
  },
  "language_info": {
   "codemirror_mode": {
    "name": "ipython",
    "version": 3
   },
   "file_extension": ".py",
   "mimetype": "text/x-python",
   "name": "python",
   "nbconvert_exporter": "python",
   "pygments_lexer": "ipython3",
   "version": "3.9.7"
  }
 },
 "nbformat": 4,
 "nbformat_minor": 5
}
